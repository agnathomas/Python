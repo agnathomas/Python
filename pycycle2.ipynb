{
  "nbformat": 4,
  "nbformat_minor": 0,
  "metadata": {
    "colab": {
      "name": "pycycle2.ipynb",
      "provenance": [],
      "include_colab_link": true
    },
    "kernelspec": {
      "name": "python3",
      "display_name": "Python 3"
    }
  },
  "cells": [
    {
      "cell_type": "markdown",
      "metadata": {
        "id": "view-in-github",
        "colab_type": "text"
      },
      "source": [
        "<a href=\"https://colab.research.google.com/github/agnathomas/Python/blob/main/pycycle2.ipynb\" target=\"_parent\"><img src=\"https://colab.research.google.com/assets/colab-badge.svg\" alt=\"Open In Colab\"/></a>"
      ]
    },
    {
      "cell_type": "code",
      "metadata": {
        "colab": {
          "base_uri": "https://localhost:8080/"
        },
        "id": "TfEOS5EBTwU8",
        "outputId": "c5b176a1-b838-45f8-9d10-ed1c98c3216a"
      },
      "source": [
        "#14.\n",
        "a = int(input(\"Input an integer : \"))\n",
        "n1 = int( \"%s\" % a )\n",
        "n2 = int( \"%s%s\" % (a,a) )\n",
        "n3 = int( \"%s%s%s\" % (a,a,a) )\n",
        "print (n1+n2+n3)"
      ],
      "execution_count": null,
      "outputs": [
        {
          "output_type": "stream",
          "text": [
            "Input an integer : 5\n",
            "615\n"
          ],
          "name": "stdout"
        }
      ]
    },
    {
      "cell_type": "code",
      "metadata": {
        "id": "Ci1Jjh-5kFxZ",
        "outputId": "4afd1b3b-a301-4cd1-9f16-2ef119c6a406",
        "colab": {
          "base_uri": "https://localhost:8080/"
        }
      },
      "source": [
        "#1.\n",
        "n=input(\"Enter your House Number:\")\n",
        "hname=input(\"Enter your House Name:\")\n",
        "s=input(\"Enter your street Name:\")\n",
        "t=input(\"Enter your Town/City:\")\n",
        "d=input(\"Enter your District:\")\n",
        "state=input(\"Enter your State:\")\n",
        "country=input(\"Enter your Country:\")\n",
        "pin=int(input(\"Enter your Postcode:\"))\n",
        "print(\"\\nAddress Details:\\n\" +\"\\n Housenumber :\",n,\"\\nHouse :\",hname,\"\\nStreet:\",s,\"\\nTown/City:\",t,\"\\nDistrict:\",d,\"\\nState:\",state,\"\\nCountry:\",country,\"\\nPostcode:\",pin)\n",
        " \n"
      ],
      "execution_count": 2,
      "outputs": [
        {
          "output_type": "stream",
          "text": [
            "Enter your House Number:1234\n",
            "Enter your House Name:AGB\n",
            "Enter your street Name:bnm\n",
            "Enter your Town/City:ert\n",
            "Enter your District:kkm\n",
            "Enter your State:asd\n",
            "Enter your Country:jhg\n",
            "Enter your Postcode:657410\n",
            "\n",
            "Address Details:\n",
            "\n",
            " Housenumber : 1234 \n",
            "House : AGB \n",
            "Street: bnm \n",
            "Town/City: ert \n",
            "District: kkm \n",
            "State: asd \n",
            "Country: jhg \n",
            "Postcode: 657410\n"
          ],
          "name": "stdout"
        }
      ]
    },
    {
      "cell_type": "code",
      "metadata": {
        "colab": {
          "base_uri": "https://localhost:8080/"
        },
        "id": "JZ97LQVRZbwI",
        "outputId": "67ebdab3-477a-4155-b215-b41053927651"
      },
      "source": [
        "#10.\n",
        "PI = 3.14\n",
        "r = float(input(\"Enter the radius of the circle: \"))\n",
        "area = PI * r * r\n",
        "print(\"%.2f\" %area)"
      ],
      "execution_count": null,
      "outputs": [
        {
          "output_type": "stream",
          "text": [
            "Enter the radius of the circle: 3\n",
            "28.26\n"
          ],
          "name": "stdout"
        }
      ]
    },
    {
      "cell_type": "code",
      "metadata": {
        "colab": {
          "base_uri": "https://localhost:8080/"
        },
        "id": "uO-Lt-7Ma284",
        "outputId": "4c1c8d0b-ff28-4c15-a0d5-84a5f9b51c7a"
      },
      "source": [
        "#11.\n",
        "num1 = 18\n",
        "num2 = 24\n",
        "num3 = 22\n",
        "if (num1 >= num2) and (num1 >= num3):\n",
        "   largest = num1\n",
        "elif (num2 >= num1) and (num2 >= num3):\n",
        "   largest = num2\n",
        "else:\n",
        "   largest = num3\n",
        "\n",
        "print(\"The largest number is\", largest)"
      ],
      "execution_count": null,
      "outputs": [
        {
          "output_type": "stream",
          "text": [
            "The largest number is 24\n"
          ],
          "name": "stdout"
        }
      ]
    },
    {
      "cell_type": "code",
      "metadata": {
        "colab": {
          "base_uri": "https://localhost:8080/"
        },
        "id": "ZwPQYxMqbbV1",
        "outputId": "eb83d252-14ff-4f5d-eda5-e27bcb4ff510"
      },
      "source": [
        "#12.\n",
        "filename= input(\"Enter Filename: \")\n",
        "f = filename.split(\".\")\n",
        "print (\"Extension of the file is : \" + f[-1])"
      ],
      "execution_count": null,
      "outputs": [
        {
          "output_type": "stream",
          "text": [
            "Enter Filename: py.ipynb\n",
            "Extension of the file is : ipynb\n"
          ],
          "name": "stdout"
        }
      ]
    },
    {
      "cell_type": "code",
      "metadata": {
        "colab": {
          "base_uri": "https://localhost:8080/"
        },
        "id": "WwL9E6h4caCf",
        "outputId": "0e3d4e20-1739-436d-ab86-339c98e583d7"
      },
      "source": [
        "#13.\n",
        "color_list = [\"Red\",\"Green\",\"White\" ,\"Black\"]\n",
        "print( \"%s %s\"%(color_list[0],color_list[3]))"
      ],
      "execution_count": null,
      "outputs": [
        {
          "output_type": "stream",
          "text": [
            "Red Black\n"
          ],
          "name": "stdout"
        }
      ]
    },
    {
      "cell_type": "code",
      "metadata": {
        "colab": {
          "base_uri": "https://localhost:8080/"
        },
        "id": "ovPf9Gb1dLbn",
        "outputId": "1cba75db-49a6-4764-a808-7620a55a0ce0"
      },
      "source": [
        "#15.\n",
        "color_list_1 = set([\"White\", \"Black\", \"Red\"])\n",
        "color_list_2 = set([\"Red\", \"Green\"])\n",
        "print(color_list_1.difference(color_list_2))"
      ],
      "execution_count": null,
      "outputs": [
        {
          "output_type": "stream",
          "text": [
            "{'Black', 'White'}\n"
          ],
          "name": "stdout"
        }
      ]
    },
    {
      "cell_type": "code",
      "metadata": {
        "colab": {
          "base_uri": "https://localhost:8080/"
        },
        "id": "MtC-759Nd6up",
        "outputId": "1b4f7064-e42e-4534-e5a2-25e2c10d7d47"
      },
      "source": [
        "#18.\n",
        "dict1 = {  'Anu': 5, 'Don': 7, 'Akku' : 10 }\n",
        "dict2 = {'Aksa': 8,'Alex': 20,'Meenu' : 11 }\n",
        "dict1.update(dict2)\n",
        "print('Updated dictionary 1 :')\n",
        "print(dict1)"
      ],
      "execution_count": null,
      "outputs": [
        {
          "output_type": "stream",
          "text": [
            "Updated dictionary 1 :\n",
            "{'Anu': 5, 'Don': 7, 'Akku': 10, 'Aksa': 8, 'Alex': 20, 'Meenu': 11}\n"
          ],
          "name": "stdout"
        }
      ]
    },
    {
      "cell_type": "code",
      "metadata": {
        "colab": {
          "base_uri": "https://localhost:8080/"
        },
        "id": "g9yCfq7OfNAu",
        "outputId": "3c7e2db6-6da4-4152-8e92-a6c6d4b4cd05"
      },
      "source": [
        "#19.\n",
        "num1 = int(input(\"Enter 1st number: \"))\n",
        "num2 = int(input(\"Enter 2nd number: \"))\n",
        "i = 1\n",
        "while(i <= num1 and i <= num2):\n",
        "  if(num1 % i == 0 and num2 % i == 0):\n",
        "    gcd = i\n",
        "  i = i + 1\n",
        "print(\"GCD is\", gcd)"
      ],
      "execution_count": null,
      "outputs": [
        {
          "output_type": "stream",
          "text": [
            "Enter 1st number: 40\n",
            "Enter 2nd number: 64\n",
            "GCD is 8\n"
          ],
          "name": "stdout"
        }
      ]
    },
    {
      "cell_type": "code",
      "metadata": {
        "colab": {
          "base_uri": "https://localhost:8080/"
        },
        "id": "h69rrKHSmSnI",
        "outputId": "1440e720-4704-4efe-dd32-58f53bf46559"
      },
      "source": [
        "#2:\n",
        "y = int (input(\"Enter the final year:\"))\n",
        "print(\"Future leap years from 2021:\")\n",
        "for x in range(2021 , y+1):\n",
        " if(x%4==0) and (x%100!=0) or (x%400==0):\n",
        "    print(x)"
      ],
      "execution_count": null,
      "outputs": [
        {
          "output_type": "stream",
          "text": [
            "Enter the final year:2030\n",
            "Future leap years from 2021:\n",
            "2024\n",
            "2028\n"
          ],
          "name": "stdout"
        }
      ]
    },
    {
      "cell_type": "code",
      "metadata": {
        "colab": {
          "base_uri": "https://localhost:8080/"
        },
        "id": "anCDHi9UKegg",
        "outputId": "bf946bed-9bc3-48ef-b4ad-f4ee07993205"
      },
      "source": [
        "#20.\n",
        "list = [11, 22, 33, 44, 55]\n",
        "print(\"Original list :\",list)\n",
        "for i in list:\n",
        "   if(i%2 == 0):\n",
        "      list.remove(i)\n",
        "print(\"List after removing Even numbers : \", list)      "
      ],
      "execution_count": null,
      "outputs": [
        {
          "output_type": "stream",
          "text": [
            "Original list : [11, 22, 33, 44, 55]\n",
            "List after removing Even numbers :  [11, 33, 55]\n"
          ],
          "name": "stdout"
        }
      ]
    },
    {
      "cell_type": "code",
      "metadata": {
        "id": "mDNAX-JeP31_",
        "colab": {
          "base_uri": "https://localhost:8080/"
        },
        "outputId": "68195a89-0781-4821-a8d7-364170dde0f4"
      },
      "source": [
        "#4.\n",
        "def word_count(str):\n",
        "    counts = dict()\n",
        "    words = str.split()\n",
        "    for word in words:\n",
        "        if word in counts:\n",
        "            counts[word] += 1\n",
        "        else:\n",
        "            counts[word] = 1\n",
        "    return counts\n",
        "\n",
        "print( word_count('flowers are also called blossom.'))\n"
      ],
      "execution_count": null,
      "outputs": [
        {
          "output_type": "stream",
          "text": [
            "{'flowers': 1, 'are': 1, 'also': 1, 'called': 1, 'blossom.': 1}\n"
          ],
          "name": "stdout"
        }
      ]
    },
    {
      "cell_type": "code",
      "metadata": {
        "id": "fSayO2x5Qf53",
        "colab": {
          "base_uri": "https://localhost:8080/"
        },
        "outputId": "20f8f500-5a90-4e55-de87-d739baa3e320"
      },
      "source": [
        "#6.\n",
        "name = input(\"enter the names\")\n",
        "list = []\n",
        "count = 0\n",
        "for x in name:\n",
        "   list.append(x)\n",
        "   if (x in name and x == 'a'):\n",
        "      count = count + 1\n",
        "print(count)"
      ],
      "execution_count": null,
      "outputs": [
        {
          "output_type": "stream",
          "text": [
            "enter the namesanu anju sam\n",
            "3\n"
          ],
          "name": "stdout"
        }
      ]
    },
    {
      "cell_type": "code",
      "metadata": {
        "id": "9Rc4--zoR72n",
        "colab": {
          "base_uri": "https://localhost:8080/"
        },
        "outputId": "dd29698a-5e54-4f00-d7fd-cd2267ac6670"
      },
      "source": [
        "#7(a).\n",
        "list1 = [1, 2, 4, 3, 8]\n",
        "list2 = [1, 2, 4, 3, 5]\n",
        "print (\"the first list is :\" + str(list1))\n",
        "print (\"the second list is :\" + str(list2))\n",
        "l1 = len(list1)\n",
        "l2 = len(list2)\n",
        "print(\"length of list1 :\", l1 , \"and length of list2 :\", l2)\n",
        "if l1 == l2:\n",
        "   print (\"list are same length\")\n",
        "else :\n",
        "    print (\"list are of different length\")\n"
      ],
      "execution_count": null,
      "outputs": [
        {
          "output_type": "stream",
          "text": [
            "the first list is :[1, 2, 4, 3, 8]\n",
            "the second list is :[1, 2, 4, 3, 5]\n",
            "length of list1 : 5 and length of list2 : 5\n",
            "list are same length\n"
          ],
          "name": "stdout"
        }
      ]
    },
    {
      "cell_type": "code",
      "metadata": {
        "id": "5FyFOLbR18NP",
        "colab": {
          "base_uri": "https://localhost:8080/"
        },
        "outputId": "2f4bcf94-cd97-41cd-babc-866c3d18a0bc"
      },
      "source": [
        "#7(b)\n",
        "list1 = [1, 2, 4, 3, 8]\n",
        "list2 = [1, 2, 4, 3, 5]\n",
        "print (\"the first list is :\" + str(list1))\n",
        "print (\"the second list is :\" + str(list2))\n",
        "sum1 = 0\n",
        "sum2 = 0\n",
        "for x in range(0, len(list1)):\n",
        "    sum1 = sum1 + list1[x]\n",
        "print (\"sum of all elements in given list1 :\", sum1)\n",
        "for x in range(0, len(list2)):\n",
        "   sum2 = sum2 + list2[x]   \n",
        "print (\"sum of all elements in given list2 :\", sum2)\n",
        "if ( sum1 == sum2):\n",
        "   print (\"list sum to same value\") \n",
        "else:\n",
        "   print(\"list are of different sum\")"
      ],
      "execution_count": null,
      "outputs": [
        {
          "output_type": "stream",
          "text": [
            "the first list is :[1, 2, 4, 3, 8]\n",
            "the second list is :[1, 2, 4, 3, 5]\n",
            "sum of all elements in given list1 : 18\n",
            "sum of all elements in given list2 : 15\n",
            "list are of different sum\n"
          ],
          "name": "stdout"
        }
      ]
    },
    {
      "cell_type": "code",
      "metadata": {
        "id": "Kbd5E9Qv2EHP",
        "colab": {
          "base_uri": "https://localhost:8080/"
        },
        "outputId": "4a6be333-0ca9-46b7-c769-1684cde07519"
      },
      "source": [
        "#7(c).\n",
        "list1 = [1, 2, 4, 3, 8]\n",
        "list2 = [1, 2, 4, 3, 5]\n",
        "print (\"the first  list is :\" + str(list1))\n",
        "print (\"the second list is :\" + str(list2))\n",
        "print (\"the values occur in both lists :\")\n",
        "for x in list1:\n",
        "   if(x in list1 and x in list2):\n",
        "      print(x)"
      ],
      "execution_count": null,
      "outputs": [
        {
          "output_type": "stream",
          "text": [
            "the first  list is :[1, 2, 4, 3, 8]\n",
            "the second list is :[1, 2, 4, 3, 5]\n",
            "the values occur in both lists :\n",
            "1\n",
            "2\n",
            "4\n",
            "3\n"
          ],
          "name": "stdout"
        }
      ]
    },
    {
      "cell_type": "code",
      "metadata": {
        "id": "i9qsPO482emQ",
        "colab": {
          "base_uri": "https://localhost:8080/"
        },
        "outputId": "4ce537cb-915a-40fb-fcf8-ca425408f0c0"
      },
      "source": [
        "#5.1090\n",
        "\n",
        "x = []\n",
        "n = int(input(\"enter any integers:\"))\n",
        "for i in range(1, n+1):\n",
        "  a = int(input())\n",
        "  if (a>100):\n",
        "    x.append('over')\n",
        "  else:\n",
        "     x.append(a)\n",
        "print(\"modified list:\", x)"
      ],
      "execution_count": null,
      "outputs": [
        {
          "output_type": "stream",
          "text": [
            "enter any integers:5\n",
            "140\n",
            "152\n",
            "0\n",
            "120\n",
            "141\n",
            "modified list: ['over', 'over', 0, 'over', 'over']\n"
          ],
          "name": "stdout"
        }
      ]
    },
    {
      "cell_type": "code",
      "metadata": {
        "id": "zy-9ZMo33Ne2",
        "colab": {
          "base_uri": "https://localhost:8080/"
        },
        "outputId": "6b481054-a122-4378-a016-023b67ccd8c9"
      },
      "source": [
        "#8.\n",
        "def change_char(str1):\n",
        "  char = str1[0]\n",
        "  str1 = str1.replace(char, '$')\n",
        "  str1 = char + str1[1:]\n",
        "  return str1\n",
        "print(change_char('agna'))"
      ],
      "execution_count": null,
      "outputs": [
        {
          "output_type": "stream",
          "text": [
            "agn$\n"
          ],
          "name": "stdout"
        }
      ]
    },
    {
      "cell_type": "code",
      "metadata": {
        "id": "CgIGKpIp4LCb",
        "colab": {
          "base_uri": "https://localhost:8080/"
        },
        "outputId": "7c1c9e97-aaf5-4e87-ac6b-a21d5ee440ac"
      },
      "source": [
        "#9.\n",
        "a = input(\"enter a string\")\n",
        "print(\"new string :\")\n",
        "print(a[-1:] + a[1:-1] + a[0])"
      ],
      "execution_count": null,
      "outputs": [
        {
          "output_type": "stream",
          "text": [
            "enter a string python\n",
            "new string :\n",
            "npytho \n"
          ],
          "name": "stdout"
        }
      ]
    },
    {
      "cell_type": "code",
      "metadata": {
        "id": "eWlUZ8_04c3i",
        "colab": {
          "base_uri": "https://localhost:8080/"
        },
        "outputId": "44a136b6-e9f0-47ff-fdd8-ecaa6832287b"
      },
      "source": [
        "#16.\n",
        "def chars_mix_up(a, b):\n",
        "  new_a = b[:2] + a[2:]\n",
        "  new_b = a[:2] + b[2:]\n",
        "\n",
        "  return new_a + ' ' + new_b\n",
        "print(chars_mix_up('agna', 'thomas'))"
      ],
      "execution_count": null,
      "outputs": [
        {
          "output_type": "stream",
          "text": [
            "thna agomas\n"
          ],
          "name": "stdout"
        }
      ]
    },
    {
      "cell_type": "code",
      "metadata": {
        "id": "2-IErMwj5brR",
        "colab": {
          "base_uri": "https://localhost:8080/"
        },
        "outputId": "747bc7b6-a1d6-42b3-aaef-029ea47a66de"
      },
      "source": [
        "#3(a).\n",
        "mylist =[12, 34, 56, -9, -7]\n",
        "print(\"firstlist:\" , mylist)\n",
        "newlist =[x for x in mylist if x > 0]\n",
        "print(\"newlist :\",newlist)"
      ],
      "execution_count": null,
      "outputs": [
        {
          "output_type": "stream",
          "text": [
            "firstlist: [12, 34, 56, -9, -7]\n",
            "newlist : [12, 34, 56]\n"
          ],
          "name": "stdout"
        }
      ]
    },
    {
      "cell_type": "code",
      "metadata": {
        "id": "0cEU1h8d5k1m",
        "colab": {
          "base_uri": "https://localhost:8080/"
        },
        "outputId": "b5928ae0-1b71-42ab-d0b5-6438f4243cc9"
      },
      "source": [
        "#3(b).n=int(input(\"enter ther limit\"))\n",
        "l=[]\n",
        "for i in range(0, n):\n",
        "  num=int(input(\"enter no:\"))\n",
        "  l.append(num)\n",
        "print(\"entered list\", l)\n",
        "l1=[i*i for i in l]\n",
        "print(\"list of squres\",l1)"
      ],
      "execution_count": null,
      "outputs": [
        {
          "output_type": "stream",
          "text": [
            "enter no:4\n",
            "enter no:5\n",
            "enter no:7\n",
            "enter no:2\n",
            "enter no:6\n",
            "entered list [4, 5, 7, 2, 6]\n",
            "list of squres [16, 25, 49, 4, 36]\n"
          ],
          "name": "stdout"
        }
      ]
    },
    {
      "cell_type": "code",
      "metadata": {
        "id": "NirCP0Hk50xZ",
        "colab": {
          "base_uri": "https://localhost:8080/"
        },
        "outputId": "2544033e-98d9-4525-98b1-229315528d4c"
      },
      "source": [
        "#3(c).\n",
        "word = input(\"enter a word\")\n",
        "vowels= ['a', 'e', 'i', 'o', 'u']\n",
        "list= []\n",
        "for x in word:\n",
        "  if(x in vowels and x not in list):\n",
        "    list.append(x)\n",
        "print(\"vowel present in the given word is:\",list)"
      ],
      "execution_count": null,
      "outputs": [
        {
          "output_type": "stream",
          "text": [
            "enter a wordagna\n",
            "vowel present in the given word is: ['a']\n"
          ],
          "name": "stdout"
        }
      ]
    }
  ]
}