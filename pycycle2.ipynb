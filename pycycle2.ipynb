{
  "nbformat": 4,
  "nbformat_minor": 0,
  "metadata": {
    "colab": {
      "name": "pycycle2.ipynb",
      "provenance": [],
      "authorship_tag": "ABX9TyNQvU1w5yrTA7zrzqlwfvmD",
      "include_colab_link": true
    },
    "kernelspec": {
      "name": "python3",
      "display_name": "Python 3"
    }
  },
  "cells": [
    {
      "cell_type": "markdown",
      "metadata": {
        "id": "view-in-github",
        "colab_type": "text"
      },
      "source": [
        "<a href=\"https://colab.research.google.com/github/agnathomas/Python/blob/main/pycycle2.ipynb\" target=\"_parent\"><img src=\"https://colab.research.google.com/assets/colab-badge.svg\" alt=\"Open In Colab\"/></a>"
      ]
    },
    {
      "cell_type": "code",
      "metadata": {
        "colab": {
          "base_uri": "https://localhost:8080/"
        },
        "id": "TfEOS5EBTwU8",
        "outputId": "c5b176a1-b838-45f8-9d10-ed1c98c3216a"
      },
      "source": [
        "#14.\r\n",
        "a = int(input(\"Input an integer : \"))\r\n",
        "n1 = int( \"%s\" % a )\r\n",
        "n2 = int( \"%s%s\" % (a,a) )\r\n",
        "n3 = int( \"%s%s%s\" % (a,a,a) )\r\n",
        "print (n1+n2+n3)"
      ],
      "execution_count": null,
      "outputs": [
        {
          "output_type": "stream",
          "text": [
            "Input an integer : 5\n",
            "615\n"
          ],
          "name": "stdout"
        }
      ]
    },
    {
      "cell_type": "code",
      "metadata": {
        "colab": {
          "base_uri": "https://localhost:8080/"
        },
        "id": "JZ97LQVRZbwI",
        "outputId": "67ebdab3-477a-4155-b215-b41053927651"
      },
      "source": [
        "#10.\r\n",
        "PI = 3.14\r\n",
        "r = float(input(\"Enter the radius of the circle: \"))\r\n",
        "area = PI * r * r\r\n",
        "print(\"%.2f\" %area)"
      ],
      "execution_count": null,
      "outputs": [
        {
          "output_type": "stream",
          "text": [
            "Enter the radius of the circle: 3\n",
            "28.26\n"
          ],
          "name": "stdout"
        }
      ]
    },
    {
      "cell_type": "code",
      "metadata": {
        "colab": {
          "base_uri": "https://localhost:8080/"
        },
        "id": "uO-Lt-7Ma284",
        "outputId": "4c1c8d0b-ff28-4c15-a0d5-84a5f9b51c7a"
      },
      "source": [
        "#11.\r\n",
        "num1 = 18\r\n",
        "num2 = 24\r\n",
        "num3 = 22\r\n",
        "if (num1 >= num2) and (num1 >= num3):\r\n",
        "   largest = num1\r\n",
        "elif (num2 >= num1) and (num2 >= num3):\r\n",
        "   largest = num2\r\n",
        "else:\r\n",
        "   largest = num3\r\n",
        "\r\n",
        "print(\"The largest number is\", largest)"
      ],
      "execution_count": null,
      "outputs": [
        {
          "output_type": "stream",
          "text": [
            "The largest number is 24\n"
          ],
          "name": "stdout"
        }
      ]
    },
    {
      "cell_type": "code",
      "metadata": {
        "colab": {
          "base_uri": "https://localhost:8080/"
        },
        "id": "ZwPQYxMqbbV1",
        "outputId": "eb83d252-14ff-4f5d-eda5-e27bcb4ff510"
      },
      "source": [
        "#12.\r\n",
        "filename= input(\"Enter Filename: \")\r\n",
        "f = filename.split(\".\")\r\n",
        "print (\"Extension of the file is : \" + f[-1])"
      ],
      "execution_count": null,
      "outputs": [
        {
          "output_type": "stream",
          "text": [
            "Enter Filename: py.ipynb\n",
            "Extension of the file is : ipynb\n"
          ],
          "name": "stdout"
        }
      ]
    },
    {
      "cell_type": "code",
      "metadata": {
        "colab": {
          "base_uri": "https://localhost:8080/"
        },
        "id": "WwL9E6h4caCf",
        "outputId": "0e3d4e20-1739-436d-ab86-339c98e583d7"
      },
      "source": [
        "#13.\r\n",
        "color_list = [\"Red\",\"Green\",\"White\" ,\"Black\"]\r\n",
        "print( \"%s %s\"%(color_list[0],color_list[3]))"
      ],
      "execution_count": null,
      "outputs": [
        {
          "output_type": "stream",
          "text": [
            "Red Black\n"
          ],
          "name": "stdout"
        }
      ]
    },
    {
      "cell_type": "code",
      "metadata": {
        "colab": {
          "base_uri": "https://localhost:8080/"
        },
        "id": "ovPf9Gb1dLbn",
        "outputId": "1cba75db-49a6-4764-a808-7620a55a0ce0"
      },
      "source": [
        "#15.\r\n",
        "color_list_1 = set([\"White\", \"Black\", \"Red\"])\r\n",
        "color_list_2 = set([\"Red\", \"Green\"])\r\n",
        "print(color_list_1.difference(color_list_2))"
      ],
      "execution_count": null,
      "outputs": [
        {
          "output_type": "stream",
          "text": [
            "{'Black', 'White'}\n"
          ],
          "name": "stdout"
        }
      ]
    },
    {
      "cell_type": "code",
      "metadata": {
        "colab": {
          "base_uri": "https://localhost:8080/"
        },
        "id": "MtC-759Nd6up",
        "outputId": "1b4f7064-e42e-4534-e5a2-25e2c10d7d47"
      },
      "source": [
        "#18.\r\n",
        "dict1 = {  'Anu': 5, 'Don': 7, 'Akku' : 10 }\r\n",
        "dict2 = {'Aksa': 8,'Alex': 20,'Meenu' : 11 }\r\n",
        "dict1.update(dict2)\r\n",
        "print('Updated dictionary 1 :')\r\n",
        "print(dict1)"
      ],
      "execution_count": null,
      "outputs": [
        {
          "output_type": "stream",
          "text": [
            "Updated dictionary 1 :\n",
            "{'Anu': 5, 'Don': 7, 'Akku': 10, 'Aksa': 8, 'Alex': 20, 'Meenu': 11}\n"
          ],
          "name": "stdout"
        }
      ]
    },
    {
      "cell_type": "code",
      "metadata": {
        "colab": {
          "base_uri": "https://localhost:8080/"
        },
        "id": "g9yCfq7OfNAu",
        "outputId": "3c7e2db6-6da4-4152-8e92-a6c6d4b4cd05"
      },
      "source": [
        "#19.\r\n",
        "num1 = int(input(\"Enter 1st number: \"))\r\n",
        "num2 = int(input(\"Enter 2nd number: \"))\r\n",
        "i = 1\r\n",
        "while(i <= num1 and i <= num2):\r\n",
        "  if(num1 % i == 0 and num2 % i == 0):\r\n",
        "    gcd = i\r\n",
        "  i = i + 1\r\n",
        "print(\"GCD is\", gcd)"
      ],
      "execution_count": null,
      "outputs": [
        {
          "output_type": "stream",
          "text": [
            "Enter 1st number: 40\n",
            "Enter 2nd number: 64\n",
            "GCD is 8\n"
          ],
          "name": "stdout"
        }
      ]
    },
    {
      "cell_type": "code",
      "metadata": {
        "colab": {
          "base_uri": "https://localhost:8080/"
        },
        "id": "h69rrKHSmSnI",
        "outputId": "1440e720-4704-4efe-dd32-58f53bf46559"
      },
      "source": [
        "#2:\r\n",
        "y = int (input(\"Enter the final year:\"))\r\n",
        "print(\"Future leap years from 2021:\")\r\n",
        "for x in range(2021 , y+1):\r\n",
        " if(x%4==0) and (x%100!=0) or (x%400==0):\r\n",
        "    print(x)"
      ],
      "execution_count": null,
      "outputs": [
        {
          "output_type": "stream",
          "text": [
            "Enter the final year:2030\n",
            "Future leap years from 2021:\n",
            "2024\n",
            "2028\n"
          ],
          "name": "stdout"
        }
      ]
    },
    {
      "cell_type": "code",
      "metadata": {
        "colab": {
          "base_uri": "https://localhost:8080/"
        },
        "id": "anCDHi9UKegg",
        "outputId": "bf946bed-9bc3-48ef-b4ad-f4ee07993205"
      },
      "source": [
        "#20.\r\n",
        "list = [11, 22, 33, 44, 55]\r\n",
        "print(\"Original list :\",list)\r\n",
        "for i in list:\r\n",
        "   if(i%2 == 0):\r\n",
        "      list.remove(i)\r\n",
        "print(\"List after removing Even numbers : \", list)      "
      ],
      "execution_count": null,
      "outputs": [
        {
          "output_type": "stream",
          "text": [
            "Original list : [11, 22, 33, 44, 55]\n",
            "List after removing Even numbers :  [11, 33, 55]\n"
          ],
          "name": "stdout"
        }
      ]
    },
    {
      "cell_type": "code",
      "metadata": {
        "id": "mDNAX-JeP31_",
        "outputId": "68195a89-0781-4821-a8d7-364170dde0f4",
        "colab": {
          "base_uri": "https://localhost:8080/"
        }
      },
      "source": [
        "#4.\n",
        "def word_count(str):\n",
        "    counts = dict()\n",
        "    words = str.split()\n",
        "\n",
        "    for word in words:\n",
        "        if word in counts:\n",
        "            counts[word] += 1\n",
        "        else:\n",
        "            counts[word] = 1\n",
        "\n",
        "    return counts\n",
        "\n",
        "print( word_count('flowers are also called blossom.'))\n"
      ],
      "execution_count": 1,
      "outputs": [
        {
          "output_type": "stream",
          "text": [
            "{'flowers': 1, 'are': 1, 'also': 1, 'called': 1, 'blossom.': 1}\n"
          ],
          "name": "stdout"
        }
      ]
    },
    {
      "cell_type": "code",
      "metadata": {
        "id": "fSayO2x5Qf53",
        "outputId": "111e1fc0-7ef4-4e56-adc8-9df16ae93236",
        "colab": {
          "base_uri": "https://localhost:8080/"
        }
      },
      "source": [
        "#6.\n",
        "def countX(lst, x): \n",
        "    count = 0\n",
        "    for ele in lst: \n",
        "        if (ele == x): \n",
        "            count = count + 1\n",
        "    return count \n",
        "lst = [8, 6, 8, 10, 8, 20, 10, 8, 8] \n",
        "x = 8\n",
        "print('{} has occurred {} times'.format(x, countX(lst, x))) "
      ],
      "execution_count": 3,
      "outputs": [
        {
          "output_type": "stream",
          "text": [
            "8 has occurred 5 times\n"
          ],
          "name": "stdout"
        }
      ]
    },
    {
      "cell_type": "code",
      "metadata": {
        "id": "9Rc4--zoR72n"
      },
      "source": [
        "#7.\n"
      ],
      "execution_count": null,
      "outputs": []
    }
  ]
}