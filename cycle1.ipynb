{
  "nbformat": 4,
  "nbformat_minor": 0,
  "metadata": {
    "colab": {
      "name": "cycle1",
      "provenance": [],
      "collapsed_sections": [],
      "authorship_tag": "ABX9TyN8Xwl0YhkdykArs3pXOZbl",
      "include_colab_link": true
    },
    "kernelspec": {
      "name": "python3",
      "display_name": "Python 3"
    }
  },
  "cells": [
    {
      "cell_type": "markdown",
      "metadata": {
        "id": "view-in-github",
        "colab_type": "text"
      },
      "source": [
        "<a href=\"https://colab.research.google.com/github/agnathomas/Python-/blob/main/cycle1.ipynb\" target=\"_parent\"><img src=\"https://colab.research.google.com/assets/colab-badge.svg\" alt=\"Open In Colab\"/></a>"
      ]
    },
    {
      "cell_type": "code",
      "metadata": {
        "colab": {
          "base_uri": "https://localhost:8080/"
        },
        "id": "wdArQQnXVmmD",
        "outputId": "4323d64a-4a12-4ff4-c8f7-aa141789d40c"
      },
      "source": [
        "print(\"Hello, World!\")"
      ],
      "execution_count": null,
      "outputs": [
        {
          "output_type": "stream",
          "text": [
            "Hello, World!\n"
          ],
          "name": "stdout"
        }
      ]
    },
    {
      "cell_type": "code",
      "metadata": {
        "id": "0M1r0wH0Xx7K",
        "colab": {
          "base_uri": "https://localhost:8080/"
        },
        "outputId": "0dbb8038-f351-4890-a21c-f8ed88bf81ce"
      },
      "source": [
        "num=int(input(\"Enter the integer: \"))\r\n",
        "print(\"You entered\",num)\r\n"
      ],
      "execution_count": null,
      "outputs": [
        {
          "output_type": "stream",
          "text": [
            "Enter the integer: 5\n",
            "You entered 5\n"
          ],
          "name": "stdout"
        }
      ]
    },
    {
      "cell_type": "code",
      "metadata": {
        "colab": {
          "base_uri": "https://localhost:8080/"
        },
        "id": "OUWDy1S9ZpYA",
        "outputId": "eef63e4f-c18e-4ff4-e9bc-ec5dc78133ac"
      },
      "source": [
        "num1 = 15\r\n",
        "num2 = 12\r\n",
        "sum = num1 + num2 \r\n",
        "print(\"the sum of given numbers is:\",sum)\r\n",
        "\r\n"
      ],
      "execution_count": null,
      "outputs": [
        {
          "output_type": "stream",
          "text": [
            "the sum of given numbers is: 27\n"
          ],
          "name": "stdout"
        }
      ]
    },
    {
      "cell_type": "code",
      "metadata": {
        "colab": {
          "base_uri": "https://localhost:8080/"
        },
        "id": "-AyPiyTfa_WQ",
        "outputId": "3f48a7f7-a144-4586-d1c4-2ebd10afd128"
      },
      "source": [
        "num1=float(input(\"Enter first number: \"))\r\n",
        "num2=float(input(\"Enter second number: \"))\r\n",
        "mul=num1*num2;\r\n",
        "print(\"the product of given numbers is:\",mul)"
      ],
      "execution_count": null,
      "outputs": [
        {
          "output_type": "stream",
          "text": [
            "Enter first number: 2.5\n",
            "Enter second number: 3.5\n",
            "the product of given numbers is: 8.75\n"
          ],
          "name": "stdout"
        }
      ]
    },
    {
      "cell_type": "code",
      "metadata": {
        "colab": {
          "base_uri": "https://localhost:8080/"
        },
        "id": "jJ4rxB2Db8TB",
        "outputId": "5ca97996-bb1c-4a13-dab3-b9ea837842d2"
      },
      "source": [
        "dividend=int(input(\"Enter the dividend: \"))\r\n",
        "divisor=int(input(\"Enter the divisor: \"))\r\n",
        "quotient=dividend//divisor;\r\n",
        "remainder=dividend%divisor;\r\n",
        "print(\"Quotient is: \",quotient)\r\n",
        "print(\"remainder is: \",remainder)\r\n"
      ],
      "execution_count": null,
      "outputs": [
        {
          "output_type": "stream",
          "text": [
            "Enter the dividend: 200\n",
            "Enter the divisor: 30\n",
            "Quotient is:  6\n",
            "remainder is:  20\n"
          ],
          "name": "stdout"
        }
      ]
    },
    {
      "cell_type": "code",
      "metadata": {
        "colab": {
          "base_uri": "https://localhost:8080/"
        },
        "id": "RKtlEy41clXV",
        "outputId": "9e6c9c56-e0e4-4ec0-87f4-6874de67813d"
      },
      "source": [
        "x = 5\r\n",
        "y = 10\r\n",
        "\r\n",
        "x, y = y, x\r\n",
        "print(\"x =\", x)\r\n",
        "print(\"y =\", y)\r\n"
      ],
      "execution_count": null,
      "outputs": [
        {
          "output_type": "stream",
          "text": [
            "x = 10\n",
            "y = 5\n"
          ],
          "name": "stdout"
        }
      ]
    },
    {
      "cell_type": "code",
      "metadata": {
        "colab": {
          "base_uri": "https://localhost:8080/"
        },
        "id": "wMaOyILeexHQ",
        "outputId": "dadd7e85-b0d5-4ba9-afe7-cbfc1e2f4adb"
      },
      "source": [
        "num = int(input(\"Enter a number: \"))\r\n",
        "mod = num % 2\r\n",
        "if mod > 0:\r\n",
        "    print(\"This is an odd number.\")\r\n",
        "else:\r\n",
        "    print(\"This is an even number.\")\r\n",
        "\t"
      ],
      "execution_count": null,
      "outputs": [
        {
          "output_type": "stream",
          "text": [
            "Enter a number: 8\n",
            "This is an even number.\n"
          ],
          "name": "stdout"
        }
      ]
    },
    {
      "cell_type": "code",
      "metadata": {
        "colab": {
          "base_uri": "https://localhost:8080/"
        },
        "id": "tsyHSALIfMN4",
        "outputId": "9d40ed87-207a-4791-9336-387ca28975d8"
      },
      "source": [
        "ch = input(\"Enter a character: \")\r\n",
        "\r\n",
        "if(ch=='A' or ch=='a' or ch=='E' or ch =='e' or ch=='I'\r\n",
        " or ch=='i' or ch=='O' or ch=='o' or ch=='U' or ch=='u'):\r\n",
        "    print(ch, \"is a Vowel\")\r\n",
        "else:\r\n",
        "    print(ch, \"is a Consonant\")\r\n",
        "    "
      ],
      "execution_count": null,
      "outputs": [
        {
          "output_type": "stream",
          "text": [
            "Enter a character: a\n",
            "a is a Vowel\n"
          ],
          "name": "stdout"
        }
      ]
    },
    {
      "cell_type": "code",
      "metadata": {
        "colab": {
          "base_uri": "https://localhost:8080/"
        },
        "id": "xuvZwy2MffBi",
        "outputId": "719b98c0-b14a-4f26-f2b6-54d151251b7f"
      },
      "source": [
        "num1=int(input(\"Enter the first number: \"))\r\n",
        "num2=int(input(\"Enter second number: \"))\r\n",
        "num3=int(input(\"Enter the third number: \"))\r\n",
        "if(num1>num2) and (num1>num3):\r\n",
        "    biggest=num1;\r\n",
        "elif (num2>num1) and (num2>num3):\r\n",
        "    biggest=num2;\r\n",
        "else:\r\n",
        "    biggest=num3;\r\n",
        "print(\"The largest number is\",biggest);"
      ],
      "execution_count": null,
      "outputs": [
        {
          "output_type": "stream",
          "text": [
            "Enter the first number: 45\n",
            "Enter second number: 24\n",
            "Enter the third number: 52\n",
            "The largest number is 52\n"
          ],
          "name": "stdout"
        }
      ]
    },
    {
      "cell_type": "code",
      "metadata": {
        "colab": {
          "base_uri": "https://localhost:8080/"
        },
        "id": "N6_35nytg0_g",
        "outputId": "30ad8f43-a569-4481-fcd7-f3dd6942505d"
      },
      "source": [
        "\r\n",
        "year = int(input(\"Enter Year: \"))\r\n",
        "if year % 4 == 0 and year % 100 != 0:\r\n",
        "    print(year, \"is a Leap Year\")\r\n",
        "elif year % 100 == 0:\r\n",
        "    print(year, \"is not a Leap Year\")\r\n",
        "elif year % 400 ==0:\r\n",
        "    print(year, \"is a Leap Year\")\r\n",
        "else:\r\n",
        "    print(year, \"is not a Leap Year\")"
      ],
      "execution_count": null,
      "outputs": [
        {
          "output_type": "stream",
          "text": [
            "Enter Year: 2008\n",
            "2008 is a Leap Year\n"
          ],
          "name": "stdout"
        }
      ]
    }
  ]
}