{
  "nbformat": 4,
  "nbformat_minor": 0,
  "metadata": {
    "colab": {
      "name": "cycle1",
      "provenance": [],
      "collapsed_sections": [],
      "authorship_tag": "ABX9TyMeiFq2eYSeOozk9g2Xj2wp",
      "include_colab_link": true
    },
    "kernelspec": {
      "name": "python3",
      "display_name": "Python 3"
    }
  },
  "cells": [
    {
      "cell_type": "markdown",
      "metadata": {
        "id": "view-in-github",
        "colab_type": "text"
      },
      "source": [
        "<a href=\"https://colab.research.google.com/github/agnathomas/Python-/blob/main/cycle1.ipynb\" target=\"_parent\"><img src=\"https://colab.research.google.com/assets/colab-badge.svg\" alt=\"Open In Colab\"/></a>"
      ]
    },
    {
      "cell_type": "code",
      "metadata": {
        "colab": {
          "base_uri": "https://localhost:8080/"
        },
        "id": "wdArQQnXVmmD",
        "outputId": "4323d64a-4a12-4ff4-c8f7-aa141789d40c"
      },
      "source": [
        "print(\"Hello, World!\")"
      ],
      "execution_count": null,
      "outputs": [
        {
          "output_type": "stream",
          "text": [
            "Hello, World!\n"
          ],
          "name": "stdout"
        }
      ]
    },
    {
      "cell_type": "code",
      "metadata": {
        "id": "0M1r0wH0Xx7K",
        "colab": {
          "base_uri": "https://localhost:8080/"
        },
        "outputId": "0dbb8038-f351-4890-a21c-f8ed88bf81ce"
      },
      "source": [
        "num=int(input(\"Enter the integer: \"))\r\n",
        "print(\"You entered\",num)\r\n"
      ],
      "execution_count": null,
      "outputs": [
        {
          "output_type": "stream",
          "text": [
            "Enter the integer: 5\n",
            "You entered 5\n"
          ],
          "name": "stdout"
        }
      ]
    },
    {
      "cell_type": "code",
      "metadata": {
        "colab": {
          "base_uri": "https://localhost:8080/"
        },
        "id": "OUWDy1S9ZpYA",
        "outputId": "eef63e4f-c18e-4ff4-e9bc-ec5dc78133ac"
      },
      "source": [
        "num1 = 15\r\n",
        "num2 = 12\r\n",
        "sum = num1 + num2 \r\n",
        "print(\"the sum of given numbers is:\",sum)\r\n",
        "\r\n"
      ],
      "execution_count": null,
      "outputs": [
        {
          "output_type": "stream",
          "text": [
            "the sum of given numbers is: 27\n"
          ],
          "name": "stdout"
        }
      ]
    },
    {
      "cell_type": "code",
      "metadata": {
        "colab": {
          "base_uri": "https://localhost:8080/"
        },
        "id": "-AyPiyTfa_WQ",
        "outputId": "3f48a7f7-a144-4586-d1c4-2ebd10afd128"
      },
      "source": [
        "num1=float(input(\"Enter first number: \"))\r\n",
        "num2=float(input(\"Enter second number: \"))\r\n",
        "mul=num1*num2;\r\n",
        "print(\"the product of given numbers is:\",mul)"
      ],
      "execution_count": null,
      "outputs": [
        {
          "output_type": "stream",
          "text": [
            "Enter first number: 2.5\n",
            "Enter second number: 3.5\n",
            "the product of given numbers is: 8.75\n"
          ],
          "name": "stdout"
        }
      ]
    },
    {
      "cell_type": "code",
      "metadata": {
        "colab": {
          "base_uri": "https://localhost:8080/"
        },
        "id": "jJ4rxB2Db8TB",
        "outputId": "5ca97996-bb1c-4a13-dab3-b9ea837842d2"
      },
      "source": [
        "dividend=int(input(\"Enter the dividend: \"))\r\n",
        "divisor=int(input(\"Enter the divisor: \"))\r\n",
        "quotient=dividend//divisor;\r\n",
        "remainder=dividend%divisor;\r\n",
        "print(\"Quotient is: \",quotient)\r\n",
        "print(\"remainder is: \",remainder)\r\n"
      ],
      "execution_count": null,
      "outputs": [
        {
          "output_type": "stream",
          "text": [
            "Enter the dividend: 200\n",
            "Enter the divisor: 30\n",
            "Quotient is:  6\n",
            "remainder is:  20\n"
          ],
          "name": "stdout"
        }
      ]
    },
    {
      "cell_type": "code",
      "metadata": {
        "colab": {
          "base_uri": "https://localhost:8080/"
        },
        "id": "RKtlEy41clXV",
        "outputId": "9e6c9c56-e0e4-4ec0-87f4-6874de67813d"
      },
      "source": [
        "x = 5\r\n",
        "y = 10\r\n",
        "\r\n",
        "x, y = y, x\r\n",
        "print(\"x =\", x)\r\n",
        "print(\"y =\", y)\r\n"
      ],
      "execution_count": null,
      "outputs": [
        {
          "output_type": "stream",
          "text": [
            "x = 10\n",
            "y = 5\n"
          ],
          "name": "stdout"
        }
      ]
    },
    {
      "cell_type": "code",
      "metadata": {
        "colab": {
          "base_uri": "https://localhost:8080/"
        },
        "id": "wMaOyILeexHQ",
        "outputId": "dadd7e85-b0d5-4ba9-afe7-cbfc1e2f4adb"
      },
      "source": [
        "num = int(input(\"Enter a number: \"))\r\n",
        "mod = num % 2\r\n",
        "if mod > 0:\r\n",
        "    print(\"This is an odd number.\")\r\n",
        "else:\r\n",
        "    print(\"This is an even number.\")\r\n",
        "\t"
      ],
      "execution_count": null,
      "outputs": [
        {
          "output_type": "stream",
          "text": [
            "Enter a number: 8\n",
            "This is an even number.\n"
          ],
          "name": "stdout"
        }
      ]
    },
    {
      "cell_type": "code",
      "metadata": {
        "colab": {
          "base_uri": "https://localhost:8080/"
        },
        "id": "tsyHSALIfMN4",
        "outputId": "9d40ed87-207a-4791-9336-387ca28975d8"
      },
      "source": [
        "ch = input(\"Enter a character: \")\r\n",
        "\r\n",
        "if(ch=='A' or ch=='a' or ch=='E' or ch =='e' or ch=='I'\r\n",
        " or ch=='i' or ch=='O' or ch=='o' or ch=='U' or ch=='u'):\r\n",
        "    print(ch, \"is a Vowel\")\r\n",
        "else:\r\n",
        "    print(ch, \"is a Consonant\")\r\n",
        "    "
      ],
      "execution_count": null,
      "outputs": [
        {
          "output_type": "stream",
          "text": [
            "Enter a character: a\n",
            "a is a Vowel\n"
          ],
          "name": "stdout"
        }
      ]
    },
    {
      "cell_type": "code",
      "metadata": {
        "colab": {
          "base_uri": "https://localhost:8080/"
        },
        "id": "xuvZwy2MffBi",
        "outputId": "719b98c0-b14a-4f26-f2b6-54d151251b7f"
      },
      "source": [
        "num1=int(input(\"Enter the first number: \"))\r\n",
        "num2=int(input(\"Enter second number: \"))\r\n",
        "num3=int(input(\"Enter the third number: \"))\r\n",
        "if(num1>num2) and (num1>num3):\r\n",
        "    biggest=num1;\r\n",
        "elif (num2>num1) and (num2>num3):\r\n",
        "    biggest=num2;\r\n",
        "else:\r\n",
        "    biggest=num3;\r\n",
        "print(\"The largest number is\",biggest);"
      ],
      "execution_count": null,
      "outputs": [
        {
          "output_type": "stream",
          "text": [
            "Enter the first number: 45\n",
            "Enter second number: 24\n",
            "Enter the third number: 52\n",
            "The largest number is 52\n"
          ],
          "name": "stdout"
        }
      ]
    },
    {
      "cell_type": "code",
      "metadata": {
        "colab": {
          "base_uri": "https://localhost:8080/"
        },
        "id": "N6_35nytg0_g",
        "outputId": "30ad8f43-a569-4481-fcd7-f3dd6942505d"
      },
      "source": [
        "\r\n",
        "year = int(input(\"Enter Year: \"))\r\n",
        "if year % 4 == 0 and year % 100 != 0:\r\n",
        "    print(year, \"is a Leap Year\")\r\n",
        "elif year % 100 == 0:\r\n",
        "    print(year, \"is not a Leap Year\")\r\n",
        "elif year % 400 ==0:\r\n",
        "    print(year, \"is a Leap Year\")\r\n",
        "else:\r\n",
        "    print(year, \"is not a Leap Year\")"
      ],
      "execution_count": null,
      "outputs": [
        {
          "output_type": "stream",
          "text": [
            "Enter Year: 2008\n",
            "2008 is a Leap Year\n"
          ],
          "name": "stdout"
        }
      ]
    },
    {
      "cell_type": "code",
      "metadata": {
        "colab": {
          "base_uri": "https://localhost:8080/"
        },
        "id": "XLlexCgWYlQK",
        "outputId": "1b1b5893-5ca4-4f7e-e1a5-433a617e55f0"
      },
      "source": [
        "num = float(input(\"Enter a number: \"))\r\n",
        "if num > 0:\r\n",
        "   print(\"Positive number\")\r\n",
        "elif num == 0:\r\n",
        "   print(\"Zero\")\r\n",
        "else:\r\n",
        "   print(\"Negative number\")"
      ],
      "execution_count": 1,
      "outputs": [
        {
          "output_type": "stream",
          "text": [
            "Enter a number: 5\n",
            "Positive number\n"
          ],
          "name": "stdout"
        }
      ]
    },
    {
      "cell_type": "code",
      "metadata": {
        "id": "KGBpjRW_fi6Y"
      },
      "source": [
        ""
      ],
      "execution_count": null,
      "outputs": []
    },
    {
      "cell_type": "code",
      "metadata": {
        "colab": {
          "base_uri": "https://localhost:8080/"
        },
        "id": "S5wkExTBfi9M",
        "outputId": "7346ba41-e5a3-46ad-cb7d-0f81ee167472"
      },
      "source": [
        "num = int(input(\"Enter a number: \"))  \r\n",
        "  \r\n",
        "if num < 0:  \r\n",
        "   print(\"Enter a positive number\")  \r\n",
        "else:  \r\n",
        "   sum = 0  \r\n",
        "   # use while loop to iterate un till zero  \r\n",
        "   while(num > 0):  \r\n",
        "       sum += num  \r\n",
        "       num -= 1  \r\n",
        "   print(\"The sum is\",sum)  "
      ],
      "execution_count": 2,
      "outputs": [
        {
          "output_type": "stream",
          "text": [
            "Enter a number: 10\n",
            "The sum is 55\n"
          ],
          "name": "stdout"
        }
      ]
    },
    {
      "cell_type": "code",
      "metadata": {
        "colab": {
          "base_uri": "https://localhost:8080/"
        },
        "id": "mw5mP-Dnf838",
        "outputId": "3c97df8a-099f-438d-cd4f-47f7aedb6110"
      },
      "source": [
        "num = int(input(\"Enter a number: \"))  \r\n",
        "factorial = 1  \r\n",
        "if num < 0:  \r\n",
        "   print(\"Sorry, factorial does not exist for negative numbers\")  \r\n",
        "elif num == 0:  \r\n",
        "   print(\"The factorial of 0 is 1\")  \r\n",
        "else:  \r\n",
        "   for i in range(1,num + 1):  \r\n",
        "       factorial = factorial*i  \r\n",
        "   print(\"The factorial of\",num,\"is\",factorial)  "
      ],
      "execution_count": 3,
      "outputs": [
        {
          "output_type": "stream",
          "text": [
            "Enter a number: 4\n",
            "The factorial of 4 is 24\n"
          ],
          "name": "stdout"
        }
      ]
    },
    {
      "cell_type": "code",
      "metadata": {
        "colab": {
          "base_uri": "https://localhost:8080/"
        },
        "id": "KJG1krZGgXNo",
        "outputId": "048a820b-b048-44e6-8fae-05c7b5d96562"
      },
      "source": [
        "num = int(input(\"Enter the number: \"))\r\n",
        "\r\n",
        "print(\"Multiplication Table of\", num)\r\n",
        "for i in range(1, 11):\r\n",
        "   print(num,\"X\",i,\"=\",num * i)\r\n",
        "   "
      ],
      "execution_count": 4,
      "outputs": [
        {
          "output_type": "stream",
          "text": [
            "Enter the number: 5\n",
            "Multiplication Table of 5\n",
            "5 X 1 = 5\n",
            "5 X 2 = 10\n",
            "5 X 3 = 15\n",
            "5 X 4 = 20\n",
            "5 X 5 = 25\n",
            "5 X 6 = 30\n",
            "5 X 7 = 35\n",
            "5 X 8 = 40\n",
            "5 X 9 = 45\n",
            "5 X 10 = 50\n"
          ],
          "name": "stdout"
        }
      ]
    },
    {
      "cell_type": "code",
      "metadata": {
        "colab": {
          "base_uri": "https://localhost:8080/"
        },
        "id": "2cpVnlLlgbbb",
        "outputId": "3d1202bf-68fe-4d75-e190-1528697c1b0b"
      },
      "source": [
        "\r\n",
        "def recur_fibo(n):\r\n",
        "   if n <= 1:\r\n",
        "       return n\r\n",
        "   else:\r\n",
        "       return(recur_fibo(n-1) + recur_fibo(n-2))\r\n",
        "nterms = 10\r\n",
        "if nterms <= 0:\r\n",
        "   print(\"Plese enter a positive integer\")\r\n",
        "else:\r\n",
        "   print(\"Fibonacci sequence:\")\r\n",
        "   for i in range(nterms):\r\n",
        "       print(recur_fibo(i))"
      ],
      "execution_count": 5,
      "outputs": [
        {
          "output_type": "stream",
          "text": [
            "Fibonacci sequence:\n",
            "0\n",
            "1\n",
            "1\n",
            "2\n",
            "3\n",
            "5\n",
            "8\n",
            "13\n",
            "21\n",
            "34\n"
          ],
          "name": "stdout"
        }
      ]
    },
    {
      "cell_type": "code",
      "metadata": {
        "id": "R9GNkKxqhdgZ"
      },
      "source": [
        ""
      ],
      "execution_count": null,
      "outputs": []
    },
    {
      "cell_type": "code",
      "metadata": {
        "colab": {
          "base_uri": "https://localhost:8080/"
        },
        "id": "17apWzuJhdky",
        "outputId": "677b5f90-4b9f-4745-c83f-a3007cf9a771"
      },
      "source": [
        "a=int(input(\"Enter the first number:\"))\r\n",
        "b=int(input(\"Enter the second number:\"))\r\n",
        "if(a>b):\r\n",
        "    min1=a\r\n",
        "else:\r\n",
        "    min1=b\r\n",
        "while(1):\r\n",
        "    if(min1%a==0 and min1%b==0):\r\n",
        "        print(\"LCM is:\",min1)\r\n",
        "        break\r\n",
        "    min1=min1+1"
      ],
      "execution_count": 6,
      "outputs": [
        {
          "output_type": "stream",
          "text": [
            "Enter the first number:5\n",
            "Enter the second number:3\n",
            "LCM is: 15\n"
          ],
          "name": "stdout"
        }
      ]
    },
    {
      "cell_type": "code",
      "metadata": {
        "colab": {
          "base_uri": "https://localhost:8080/"
        },
        "id": "VrOlLk8Gh0Kd",
        "outputId": "faad869e-6aef-4c31-e279-bb0807339d88"
      },
      "source": [
        "n=int(input(\"Enter number:\"))\r\n",
        "count=0\r\n",
        "while(n>0):\r\n",
        "    count=count+1\r\n",
        "    n=n//10\r\n",
        "print(\"The number of digits in the number are:\",count)\r\n"
      ],
      "execution_count": 7,
      "outputs": [
        {
          "output_type": "stream",
          "text": [
            "Enter number:4785\n",
            "The number of digits in the number are: 4\n"
          ],
          "name": "stdout"
        }
      ]
    },
    {
      "cell_type": "code",
      "metadata": {
        "colab": {
          "base_uri": "https://localhost:8080/"
        },
        "id": "GGlbG7imiKZK",
        "outputId": "64311ed7-6071-4f44-92ad-b28307c23b2c"
      },
      "source": [
        "\r\n",
        "n = 4562; \r\n",
        "rev = 0\r\n",
        "  \r\n",
        "while(n > 0): \r\n",
        "    a = n % 10\r\n",
        "    rev = rev * 10 + a \r\n",
        "    n = n // 10\r\n",
        "      \r\n",
        "print(rev) \r\n",
        "  "
      ],
      "execution_count": 8,
      "outputs": [
        {
          "output_type": "stream",
          "text": [
            "2654\n"
          ],
          "name": "stdout"
        }
      ]
    },
    {
      "cell_type": "code",
      "metadata": {
        "colab": {
          "base_uri": "https://localhost:8080/"
        },
        "id": "i5TiG-jijjqG",
        "outputId": "3cfd22d5-8dbd-4ad7-b53f-47258e346df0"
      },
      "source": [
        "def power(base,exp):\r\n",
        "    if(exp==1):\r\n",
        "        return(base)\r\n",
        "    if(exp!=1):\r\n",
        "        return(base*power(base,exp-1))\r\n",
        "base=int(input(\"Enter base: \"))\r\n",
        "exp=int(input(\"Enter exponential value: \"))\r\n",
        "print(\"Result:\",power(base,exp))"
      ],
      "execution_count": 9,
      "outputs": [
        {
          "output_type": "stream",
          "text": [
            "Enter base: 5\n",
            "Enter exponential value: 4\n",
            "Result: 625\n"
          ],
          "name": "stdout"
        }
      ]
    },
    {
      "cell_type": "code",
      "metadata": {
        "colab": {
          "base_uri": "https://localhost:8080/"
        },
        "id": "pmEH2ljejz4D",
        "outputId": "38fe2bcc-85a3-4f7e-cc44-98023657c3f7"
      },
      "source": [
        "n=int(input(\"Enter number:\"))\r\n",
        "temp=n\r\n",
        "rev=0\r\n",
        "while(n>0):\r\n",
        "    dig=n%10\r\n",
        "    rev=rev*10+dig\r\n",
        "    n=n//10\r\n",
        "if(temp==rev):\r\n",
        "    print(\"The number is a palindrome!\")\r\n",
        "else:\r\n",
        "    print(\"The number isn't a palindrome!\")"
      ],
      "execution_count": 10,
      "outputs": [
        {
          "output_type": "stream",
          "text": [
            "Enter number:121\n",
            "The number is a palindrome!\n"
          ],
          "name": "stdout"
        }
      ]
    }
  ]
}