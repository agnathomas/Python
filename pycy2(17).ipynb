{
  "nbformat": 4,
  "nbformat_minor": 0,
  "metadata": {
    "colab": {
      "name": "Untitled1.ipynb",
      "provenance": [],
      "authorship_tag": "ABX9TyO4/L8vdI67yUqLEd9OoyBy",
      "include_colab_link": true
    },
    "kernelspec": {
      "name": "python3",
      "display_name": "Python 3"
    }
  },
  "cells": [
    {
      "cell_type": "markdown",
      "metadata": {
        "id": "view-in-github",
        "colab_type": "text"
      },
      "source": [
        "<a href=\"https://colab.research.google.com/github/agnathomas/Python/blob/main/pycy2(17).ipynb\" target=\"_parent\"><img src=\"https://colab.research.google.com/assets/colab-badge.svg\" alt=\"Open In Colab\"/></a>"
      ]
    },
    {
      "cell_type": "code",
      "metadata": {
        "colab": {
          "base_uri": "https://localhost:8080/"
        },
        "id": "dgHU7pg7Gv8d",
        "outputId": "24f131ed-f1fe-4b75-a38a-bb662cae8013"
      },
      "source": [
        "y={'david':45,'alex':20,'christy':35,'jincy':10}\r\n",
        "l=list(y.items())\r\n",
        "l.sort()\r\n",
        "print('Ascending order is:',l)\r\n",
        "l=list(y.items())\r\n",
        "l.sort(reverse=True)\r\n",
        "print('Descending order is:',l)\r\n",
        "dict=dict(l)\r\n",
        "print(\"Dictionary\",dict)"
      ],
      "execution_count": 1,
      "outputs": [
        {
          "output_type": "stream",
          "text": [
            "Ascending order is: [('alex', 20), ('christy', 35), ('david', 45), ('jincy', 10)]\n",
            "Descending order is: [('jincy', 10), ('david', 45), ('christy', 35), ('alex', 20)]\n",
            "Dictionary {'jincy': 10, 'david': 45, 'christy': 35, 'alex': 20}\n"
          ],
          "name": "stdout"
        }
      ]
    }
  ]
}