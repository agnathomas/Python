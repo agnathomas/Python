{
  "nbformat": 4,
  "nbformat_minor": 0,
  "metadata": {
    "colab": {
      "name": "PyCycle3.ipynb",
      "provenance": [],
      "authorship_tag": "ABX9TyMh72oaUSQe1ZjARLbJ814u",
      "include_colab_link": true
    },
    "kernelspec": {
      "name": "python3",
      "display_name": "Python 3"
    }
  },
  "cells": [
    {
      "cell_type": "markdown",
      "metadata": {
        "id": "view-in-github",
        "colab_type": "text"
      },
      "source": [
        "<a href=\"https://colab.research.google.com/github/agnathomas/Python/blob/main/PyCycle3.ipynb\" target=\"_parent\"><img src=\"https://colab.research.google.com/assets/colab-badge.svg\" alt=\"Open In Colab\"/></a>"
      ]
    },
    {
      "cell_type": "code",
      "metadata": {
        "colab": {
          "base_uri": "https://localhost:8080/"
        },
        "id": "fP-MFf2y7AfR",
        "outputId": "af055fb2-fed9-476a-cfaf-a1da78971b81"
      },
      "source": [
        "#1.\r\n",
        "num=int(input('enter a number'))\r\n",
        "f=1\r\n",
        "for i in range(1,num+1):\r\n",
        "  f=f*i\r\n",
        "print ('factorial of', num, '=',f)"
      ],
      "execution_count": 4,
      "outputs": [
        {
          "output_type": "stream",
          "text": [
            "enter a number5\n",
            "factorial of 5 = 120\n"
          ],
          "name": "stdout"
        }
      ]
    },
    {
      "cell_type": "code",
      "metadata": {
        "colab": {
          "base_uri": "https://localhost:8080/"
        },
        "id": "5-kBuO8s8_nW",
        "outputId": "518de794-c62c-4b38-ffe3-429d0797f603"
      },
      "source": [
        "#2.\r\n",
        "n = int(input(\"Enter the value of 'n': \"))\r\n",
        "a = 0\r\n",
        "b = 1\r\n",
        "sum = 0\r\n",
        "count = 1\r\n",
        "print(\"Fibonacci Series: \", end = \" \")\r\n",
        "while(count <= n):\r\n",
        "  print(sum, end = \" \")\r\n",
        "  count += 1\r\n",
        "  a = b\r\n",
        "  b = sum\r\n",
        "  sum = a + b"
      ],
      "execution_count": 5,
      "outputs": [
        {
          "output_type": "stream",
          "text": [
            "Enter the value of 'n': 5\n",
            "Fibonacci Series:  0 1 1 2 3 "
          ],
          "name": "stdout"
        }
      ]
    },
    {
      "cell_type": "code",
      "metadata": {
        "colab": {
          "base_uri": "https://localhost:8080/"
        },
        "id": "KUG3bvxn9qqp",
        "outputId": "add4ec4f-b13d-4759-8085-061a11ec80a3"
      },
      "source": [
        "#3.\r\n",
        "def sum_list(items):\r\n",
        "    sum_numbers = 0\r\n",
        "    for x in items:\r\n",
        "        sum_numbers += x\r\n",
        "    return sum_numbers\r\n",
        "print(sum_list([1,2,4]))\r\n"
      ],
      "execution_count": 6,
      "outputs": [
        {
          "output_type": "stream",
          "text": [
            "7\n"
          ],
          "name": "stdout"
        }
      ]
    },
    {
      "cell_type": "code",
      "metadata": {
        "id": "JCZH5Zgg-F8Z"
      },
      "source": [
        "#4."
      ],
      "execution_count": null,
      "outputs": []
    }
  ]
}