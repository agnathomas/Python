{
  "nbformat": 4,
  "nbformat_minor": 0,
  "metadata": {
    "colab": {
      "name": "PyCycle3.ipynb",
      "provenance": [],
      "include_colab_link": true
    },
    "kernelspec": {
      "name": "python3",
      "display_name": "Python 3"
    }
  },
  "cells": [
    {
      "cell_type": "markdown",
      "metadata": {
        "id": "view-in-github",
        "colab_type": "text"
      },
      "source": [
        "<a href=\"https://colab.research.google.com/github/agnathomas/Python/blob/main/PyCycle3.ipynb\" target=\"_parent\"><img src=\"https://colab.research.google.com/assets/colab-badge.svg\" alt=\"Open In Colab\"/></a>"
      ]
    },
    {
      "cell_type": "code",
      "metadata": {
        "colab": {
          "base_uri": "https://localhost:8080/"
        },
        "id": "fP-MFf2y7AfR",
        "outputId": "af055fb2-fed9-476a-cfaf-a1da78971b81"
      },
      "source": [
        "#1.\n",
        "num=int(input('enter a number'))\n",
        "f=1\n",
        "for i in range(1,num+1):\n",
        "  f=f*i\n",
        "print ('factorial of', num, '=',f)"
      ],
      "execution_count": null,
      "outputs": [
        {
          "output_type": "stream",
          "text": [
            "enter a number5\n",
            "factorial of 5 = 120\n"
          ],
          "name": "stdout"
        }
      ]
    },
    {
      "cell_type": "code",
      "metadata": {
        "colab": {
          "base_uri": "https://localhost:8080/"
        },
        "id": "5-kBuO8s8_nW",
        "outputId": "518de794-c62c-4b38-ffe3-429d0797f603"
      },
      "source": [
        "#2.\n",
        "n = int(input(\"Enter the value of 'n': \"))\n",
        "a = 0\n",
        "b = 1\n",
        "sum = 0\n",
        "count = 1\n",
        "print(\"Fibonacci Series: \", end = \" \")\n",
        "while(count <= n):\n",
        "  print(sum, end = \" \")\n",
        "  count += 1\n",
        "  a = b\n",
        "  b = sum\n",
        "  sum = a + b"
      ],
      "execution_count": null,
      "outputs": [
        {
          "output_type": "stream",
          "text": [
            "Enter the value of 'n': 5\n",
            "Fibonacci Series:  0 1 1 2 3 "
          ],
          "name": "stdout"
        }
      ]
    },
    {
      "cell_type": "code",
      "metadata": {
        "colab": {
          "base_uri": "https://localhost:8080/"
        },
        "id": "KUG3bvxn9qqp",
        "outputId": "4e3f3dfd-3267-4961-8fcb-4810137519be"
      },
      "source": [
        "#3.\n",
        "NumList=[]\n",
        "number=int(input(\"Please enter the Total Number of List Elements:\"))\n",
        "for i in range(1,number+1):\n",
        "  value=int(input(\"Please enter the value of %d Element:\" %i))\n",
        "  NumList.append(value)\n",
        "total=sum(NumList)\n",
        "print(\"\\n The Sum of all Elements in this List is:\" ,total)\n"
      ],
      "execution_count": 5,
      "outputs": [
        {
          "output_type": "stream",
          "text": [
            "Please enter the Total Number of List Elements:3\n",
            "Please enter the value of 1 Element:4\n",
            "Please enter the value of 2 Element:6\n",
            "Please enter the value of 3 Element:5\n",
            "\n",
            " The Sum of all Elements in this List is: 15\n"
          ],
          "name": "stdout"
        }
      ]
    },
    {
      "cell_type": "code",
      "metadata": {
        "id": "C6Xvy80fNnyx",
        "outputId": "c59767ef-8072-4b3e-caf2-6709acc67106",
        "colab": {
          "base_uri": "https://localhost:8080/"
        }
      },
      "source": [
        "#4.\n",
        "for i in range(1000,10000):\n",
        "   for j in range(32,100):\n",
        "    if i == j * j:\n",
        "       a=str(i)\n",
        "       if (int(a[0]) % 2 == 0 and int(a[1]) % 2 == 0 and int(a[2]) % 2 ==0 and int(a[3]) % 2 ==0):\n",
        "          print(i)\n"
      ],
      "execution_count": 6,
      "outputs": [
        {
          "output_type": "stream",
          "text": [
            "4624\n",
            "6084\n",
            "6400\n",
            "8464\n"
          ],
          "name": "stdout"
        }
      ]
    },
    {
      "cell_type": "code",
      "metadata": {
        "colab": {
          "base_uri": "https://localhost:8080/"
        },
        "id": "JCZH5Zgg-F8Z",
        "outputId": "a8e88650-5f35-41c5-b429-23fecd2a55d4"
      },
      "source": [
        "#5.\n",
        "def py(n):\n",
        "  x=1\n",
        "  for i in range(1, n+1):\n",
        "    for j in range(1, i+1):\n",
        "      print(x, end=\" \")\n",
        "      x=x+i\n",
        "    x=i+1\n",
        "    print(\"\\r\")\n",
        "n=int(input(\"Enter the limit : \"))\n",
        "py(n)\n"
      ],
      "execution_count": 9,
      "outputs": [
        {
          "output_type": "stream",
          "text": [
            "Enter the limit : 4\n",
            "1 \n",
            "2 4 \n",
            "3 6 9 \n",
            "4 8 12 16 \n"
          ],
          "name": "stdout"
        }
      ]
    },
    {
      "cell_type": "code",
      "metadata": {
        "colab": {
          "base_uri": "https://localhost:8080/"
        },
        "id": "ZXZqorv7Ya7K",
        "outputId": "01f11663-0e4b-442d-da35-52d6a77b7481"
      },
      "source": [
        "#6.\n",
        "def char_frequency(str1):\n",
        "    dict = {}\n",
        "    for n in str1:\n",
        "        keys = dict.keys()\n",
        "        if n in keys:\n",
        "            dict[n] += 1\n",
        "        else:\n",
        "            dict[n] = 1\n",
        "    return dict\n",
        "print(char_frequency('google.com'))"
      ],
      "execution_count": null,
      "outputs": [
        {
          "output_type": "stream",
          "text": [
            "{'g': 2, 'o': 3, 'l': 1, 'e': 1, '.': 1, 'c': 1, 'm': 1}\n"
          ],
          "name": "stdout"
        }
      ]
    },
    {
      "cell_type": "code",
      "metadata": {
        "colab": {
          "base_uri": "https://localhost:8080/"
        },
        "id": "Zpx8ZxzkZPIY",
        "outputId": "e82336f5-d683-4008-a7bb-bb1fe357ed18"
      },
      "source": [
        "#7.\n",
        "def add_string(str1):\n",
        "   length=len(str1)\n",
        "   if length > 1:\n",
        "      if str1[-3:] == 'ing':\n",
        "       str1 += 'ly'\n",
        "      else:\n",
        "        str1 +='ing'\n",
        "   return str1\n",
        "print(add_string('speak'))\n",
        "print(add_string('dance'))\n",
        "print(add_string('singing')) "
      ],
      "execution_count": 11,
      "outputs": [
        {
          "output_type": "stream",
          "text": [
            "speaking\n",
            "danceing\n",
            "singingly\n"
          ],
          "name": "stdout"
        }
      ]
    },
    {
      "cell_type": "code",
      "metadata": {
        "colab": {
          "base_uri": "https://localhost:8080/"
        },
        "id": "GIMfJbiNZvqM",
        "outputId": "a1fe06cd-a8ef-4eea-a334-1b592099109c"
      },
      "source": [
        "#8.\n",
        "def find_longest_word(words_list):\n",
        "    word_len = []\n",
        "    for n in words_list:\n",
        "        word_len.append((len(n), n))\n",
        "    word_len.sort()\n",
        "    return word_len[-1][0], word_len[-1][1]\n",
        "result = find_longest_word([\"Fruits\", \"vegetables\", \"Water\"])\n",
        "print(\"\\nLongest word: \",result[1])\n",
        "print(\"Length of the longest word: \",result[0])"
      ],
      "execution_count": null,
      "outputs": [
        {
          "output_type": "stream",
          "text": [
            "\n",
            "Longest word:  vegetables\n",
            "Length of the longest word:  10\n"
          ],
          "name": "stdout"
        }
      ]
    },
    {
      "cell_type": "code",
      "metadata": {
        "colab": {
          "base_uri": "https://localhost:8080/"
        },
        "id": "uWRPeO14acU3",
        "outputId": "ecc5e3de-be71-4589-df35-8e6e5a99cc53"
      },
      "source": [
        "#9.\n",
        "n=int(input(\"How many lines you want? : \"))\n",
        "m= (2 * n) - 2\n",
        "for i in range(0, n):\n",
        "    for j in range(0, m):\n",
        "       print(end=\" \")\n",
        "    m = m - 1\n",
        "    for j in range(0, i+1):\n",
        "        print(\" * \", end=' ')\n",
        "    print(\" \")\n"
      ],
      "execution_count": 15,
      "outputs": [
        {
          "output_type": "stream",
          "text": [
            "How many lines you want? : 5\n",
            "         *   \n",
            "        *   *   \n",
            "       *   *   *   \n",
            "      *   *   *   *   \n",
            "     *   *   *   *   *   \n"
          ],
          "name": "stdout"
        }
      ]
    },
    {
      "cell_type": "code",
      "metadata": {
        "colab": {
          "base_uri": "https://localhost:8080/"
        },
        "id": "WEcsuk8EajMP",
        "outputId": "f1600fbb-bd28-4434-c6c4-c19c5d644899"
      },
      "source": [
        "#10.\n",
        "num=int(input(\"Enter a Number: \"))\n",
        "factors=[]\n",
        "for i in range(1,num+1):\n",
        "    if num%i==0:\n",
        "       factors.append(i)\n",
        "print(\"Factors of {} = {} \".format(num,factors))\n",
        " \n"
      ],
      "execution_count": 17,
      "outputs": [
        {
          "output_type": "stream",
          "text": [
            "Enter a Number: 120\n",
            "Factors of 120 = [1, 2, 3, 4, 5, 6, 8, 10, 12, 15, 20, 24, 30, 40, 60, 120] \n"
          ],
          "name": "stdout"
        }
      ]
    },
    {
      "cell_type": "code",
      "metadata": {
        "colab": {
          "base_uri": "https://localhost:8080/"
        },
        "id": "-p8HHOKvbWdj",
        "outputId": "a244912a-93d0-417d-cfa4-3c3aa4c4a855"
      },
      "source": [
        "#11.\n",
        "square_area = lambda l: l*l\n",
        "l = int(input(\"Enter length of the square:\"))\n",
        "print(\"Area of the square : \",square_area(l))\n",
        "rect_area = lambda l,b :l * b\n",
        "l = int(input(\"Enter length of the rectangle:\"))\n",
        "b = int(input(\"Enter breadth of the rectangle:\"))\n",
        "print(\"Area of the rectangle : \",rect_area(l,b))\n",
        "triangle_area = lambda b ,h :0.5*b *h\n",
        "b = int(input(\"Enter base of the triangle:\"))\n",
        "h = int(input(\"Enter height of the triangle:\"))\n",
        "print(\"Area of the triangle : \",triangle_area(b,h))"
      ],
      "execution_count": null,
      "outputs": [
        {
          "output_type": "stream",
          "text": [
            "Enter length of the square:5\n",
            "Area of the square :  25\n",
            "Enter length of the rectangle:6\n",
            "Enter breadth of the rectangle:4\n",
            "Area of the rectangle :  24\n",
            "Enter base of the triangle:10\n",
            "Enter height of the triangle:5\n",
            "Area of the triangle :  25.0\n"
          ],
          "name": "stdout"
        }
      ]
    }
  ]
}