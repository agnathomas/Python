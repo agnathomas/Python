{
  "nbformat": 4,
  "nbformat_minor": 0,
  "metadata": {
    "colab": {
      "name": "PyCycle3.ipynb",
      "provenance": [],
      "authorship_tag": "ABX9TyPuXRiXLHx7L+40AM99L2Zf",
      "include_colab_link": true
    },
    "kernelspec": {
      "name": "python3",
      "display_name": "Python 3"
    }
  },
  "cells": [
    {
      "cell_type": "markdown",
      "metadata": {
        "id": "view-in-github",
        "colab_type": "text"
      },
      "source": [
        "<a href=\"https://colab.research.google.com/github/agnathomas/Python/blob/main/PyCycle3.ipynb\" target=\"_parent\"><img src=\"https://colab.research.google.com/assets/colab-badge.svg\" alt=\"Open In Colab\"/></a>"
      ]
    },
    {
      "cell_type": "code",
      "metadata": {
        "colab": {
          "base_uri": "https://localhost:8080/"
        },
        "id": "fP-MFf2y7AfR",
        "outputId": "af055fb2-fed9-476a-cfaf-a1da78971b81"
      },
      "source": [
        "#1.\r\n",
        "num=int(input('enter a number'))\r\n",
        "f=1\r\n",
        "for i in range(1,num+1):\r\n",
        "  f=f*i\r\n",
        "print ('factorial of', num, '=',f)"
      ],
      "execution_count": 4,
      "outputs": [
        {
          "output_type": "stream",
          "text": [
            "enter a number5\n",
            "factorial of 5 = 120\n"
          ],
          "name": "stdout"
        }
      ]
    },
    {
      "cell_type": "code",
      "metadata": {
        "colab": {
          "base_uri": "https://localhost:8080/"
        },
        "id": "5-kBuO8s8_nW",
        "outputId": "518de794-c62c-4b38-ffe3-429d0797f603"
      },
      "source": [
        "#2.\r\n",
        "n = int(input(\"Enter the value of 'n': \"))\r\n",
        "a = 0\r\n",
        "b = 1\r\n",
        "sum = 0\r\n",
        "count = 1\r\n",
        "print(\"Fibonacci Series: \", end = \" \")\r\n",
        "while(count <= n):\r\n",
        "  print(sum, end = \" \")\r\n",
        "  count += 1\r\n",
        "  a = b\r\n",
        "  b = sum\r\n",
        "  sum = a + b"
      ],
      "execution_count": 5,
      "outputs": [
        {
          "output_type": "stream",
          "text": [
            "Enter the value of 'n': 5\n",
            "Fibonacci Series:  0 1 1 2 3 "
          ],
          "name": "stdout"
        }
      ]
    },
    {
      "cell_type": "code",
      "metadata": {
        "colab": {
          "base_uri": "https://localhost:8080/"
        },
        "id": "KUG3bvxn9qqp",
        "outputId": "add4ec4f-b13d-4759-8085-061a11ec80a3"
      },
      "source": [
        "#3.\r\n",
        "def sum_list(items):\r\n",
        "    sum_numbers = 0\r\n",
        "    for x in items:\r\n",
        "        sum_numbers += x\r\n",
        "    return sum_numbers\r\n",
        "print(sum_list([1,2,4]))\r\n"
      ],
      "execution_count": 6,
      "outputs": [
        {
          "output_type": "stream",
          "text": [
            "7\n"
          ],
          "name": "stdout"
        }
      ]
    },
    {
      "cell_type": "code",
      "metadata": {
        "colab": {
          "base_uri": "https://localhost:8080/"
        },
        "id": "JCZH5Zgg-F8Z",
        "outputId": "5b67d208-e9fc-4686-c1b8-7708a19236e7"
      },
      "source": [
        "#5.\r\n",
        "rows = 5\r\n",
        "for row in range(1, rows+1):\r\n",
        "    for column in range(1, row + 1):\r\n",
        "        print(column, end=' ')\r\n",
        "    print(\"\")"
      ],
      "execution_count": 1,
      "outputs": [
        {
          "output_type": "stream",
          "text": [
            "1 \n",
            "1 2 \n",
            "1 2 3 \n",
            "1 2 3 4 \n",
            "1 2 3 4 5 \n"
          ],
          "name": "stdout"
        }
      ]
    },
    {
      "cell_type": "code",
      "metadata": {
        "colab": {
          "base_uri": "https://localhost:8080/"
        },
        "id": "ZXZqorv7Ya7K",
        "outputId": "01f11663-0e4b-442d-da35-52d6a77b7481"
      },
      "source": [
        "#6.\r\n",
        "def char_frequency(str1):\r\n",
        "    dict = {}\r\n",
        "    for n in str1:\r\n",
        "        keys = dict.keys()\r\n",
        "        if n in keys:\r\n",
        "            dict[n] += 1\r\n",
        "        else:\r\n",
        "            dict[n] = 1\r\n",
        "    return dict\r\n",
        "print(char_frequency('google.com'))"
      ],
      "execution_count": 2,
      "outputs": [
        {
          "output_type": "stream",
          "text": [
            "{'g': 2, 'o': 3, 'l': 1, 'e': 1, '.': 1, 'c': 1, 'm': 1}\n"
          ],
          "name": "stdout"
        }
      ]
    },
    {
      "cell_type": "code",
      "metadata": {
        "colab": {
          "base_uri": "https://localhost:8080/"
        },
        "id": "Zpx8ZxzkZPIY",
        "outputId": "bcb12214-c205-4d18-ecb8-55bba0e19d01"
      },
      "source": [
        "#7.\r\n",
        "def add_string(str1):  \r\n",
        "  length = len(str1)  \r\n",
        "  \r\n",
        "  if length > 2:  \r\n",
        "    if str1[-3:] == 'ing':  \r\n",
        "      str1 += 'ly'  \r\n",
        "    else:  \r\n",
        "      str1 += 'ing'  \r\n",
        "  \r\n",
        "  return str1  \r\n",
        "print(add_string('ab'))  \r\n",
        "print(add_string('abc'))  \r\n",
        "print(add_string('string'))  "
      ],
      "execution_count": 3,
      "outputs": [
        {
          "output_type": "stream",
          "text": [
            "ab\n",
            "abcing\n",
            "stringly\n"
          ],
          "name": "stdout"
        }
      ]
    },
    {
      "cell_type": "code",
      "metadata": {
        "colab": {
          "base_uri": "https://localhost:8080/"
        },
        "id": "GIMfJbiNZvqM",
        "outputId": "a1fe06cd-a8ef-4eea-a334-1b592099109c"
      },
      "source": [
        "#8.\r\n",
        "def find_longest_word(words_list):\r\n",
        "    word_len = []\r\n",
        "    for n in words_list:\r\n",
        "        word_len.append((len(n), n))\r\n",
        "    word_len.sort()\r\n",
        "    return word_len[-1][0], word_len[-1][1]\r\n",
        "result = find_longest_word([\"Fruits\", \"vegetables\", \"Water\"])\r\n",
        "print(\"\\nLongest word: \",result[1])\r\n",
        "print(\"Length of the longest word: \",result[0])"
      ],
      "execution_count": 5,
      "outputs": [
        {
          "output_type": "stream",
          "text": [
            "\n",
            "Longest word:  vegetables\n",
            "Length of the longest word:  10\n"
          ],
          "name": "stdout"
        }
      ]
    },
    {
      "cell_type": "code",
      "metadata": {
        "colab": {
          "base_uri": "https://localhost:8080/"
        },
        "id": "uWRPeO14acU3",
        "outputId": "66170794-c37b-45c2-a478-20f0dcfe99ad"
      },
      "source": [
        "#9.\r\n",
        "n=6;\r\n",
        "for i in range(n):\r\n",
        "    for j in range(i):\r\n",
        "        print ('* ', end=\"\")\r\n",
        "    print('')\r\n",
        "\r\n",
        "for i in range(n,0,-1):\r\n",
        "    for j in range(i):\r\n",
        "        print('* ', end=\"\")\r\n",
        "    print('')"
      ],
      "execution_count": 7,
      "outputs": [
        {
          "output_type": "stream",
          "text": [
            "\n",
            "* \n",
            "* * \n",
            "* * * \n",
            "* * * * \n",
            "* * * * * \n",
            "* * * * * * \n",
            "* * * * * \n",
            "* * * * \n",
            "* * * \n",
            "* * \n",
            "* \n"
          ],
          "name": "stdout"
        }
      ]
    },
    {
      "cell_type": "code",
      "metadata": {
        "colab": {
          "base_uri": "https://localhost:8080/"
        },
        "id": "WEcsuk8EajMP",
        "outputId": "bcb515fc-a76c-4be9-9aa8-419fea544827"
      },
      "source": [
        "#10.\r\n",
        "def print_factors(x):\r\n",
        "   print(\"The factors of\",x,\"are:\")\r\n",
        "   for i in range(1, x + 1):\r\n",
        "       if x % i == 0:\r\n",
        "           print(i)\r\n",
        "num = 320\r\n",
        "print_factors(num)"
      ],
      "execution_count": 8,
      "outputs": [
        {
          "output_type": "stream",
          "text": [
            "The factors of 320 are:\n",
            "1\n",
            "2\n",
            "4\n",
            "5\n",
            "8\n",
            "10\n",
            "16\n",
            "20\n",
            "32\n",
            "40\n",
            "64\n",
            "80\n",
            "160\n",
            "320\n"
          ],
          "name": "stdout"
        }
      ]
    },
    {
      "cell_type": "code",
      "metadata": {
        "colab": {
          "base_uri": "https://localhost:8080/"
        },
        "id": "-p8HHOKvbWdj",
        "outputId": "a244912a-93d0-417d-cfa4-3c3aa4c4a855"
      },
      "source": [
        "#11.\r\n",
        "square_area = lambda l: l*l\r\n",
        "l = int(input(\"Enter length of the square:\"))\r\n",
        "print(\"Area of the square : \",square_area(l))\r\n",
        "rect_area = lambda l,b :l * b\r\n",
        "l = int(input(\"Enter length of the rectangle:\"))\r\n",
        "b = int(input(\"Enter breadth of the rectangle:\"))\r\n",
        "print(\"Area of the rectangle : \",rect_area(l,b))\r\n",
        "triangle_area = lambda b ,h :0.5*b *h\r\n",
        "b = int(input(\"Enter base of the triangle:\"))\r\n",
        "h = int(input(\"Enter height of the triangle:\"))\r\n",
        "print(\"Area of the triangle : \",triangle_area(b,h))"
      ],
      "execution_count": 10,
      "outputs": [
        {
          "output_type": "stream",
          "text": [
            "Enter length of the square:5\n",
            "Area of the square :  25\n",
            "Enter length of the rectangle:6\n",
            "Enter breadth of the rectangle:4\n",
            "Area of the rectangle :  24\n",
            "Enter base of the triangle:10\n",
            "Enter height of the triangle:5\n",
            "Area of the triangle :  25.0\n"
          ],
          "name": "stdout"
        }
      ]
    }
  ]
}